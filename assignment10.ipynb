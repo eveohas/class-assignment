{
 "cells": [
  {
   "cell_type": "markdown",
   "id": "26eaf643",
   "metadata": {},
   "source": [
    "# Create a table for Spanish League, Italian League and French League having the same columns name as the English premier league\n",
    "\n",
    "# insert the clubs with their various records"
   ]
  },
  {
   "cell_type": "code",
   "execution_count": 1,
   "id": "13117e8b",
   "metadata": {},
   "outputs": [],
   "source": [
    "import pymysql\n",
    "mydb = pymysql.connect(\n",
    "    host = 'localhost',\n",
    "    user = 'root',\n",
    "    password = 'lologeorge@18',\n",
    "    database = 'footballmanagementsystem'\n",
    "    \n",
    ")\n",
    "mycursor = mydb.cursor()"
   ]
  },
  {
   "cell_type": "code",
   "execution_count": 2,
   "id": "fcc320ea",
   "metadata": {},
   "outputs": [
    {
     "data": {
      "text/plain": [
       "0"
      ]
     },
     "execution_count": 2,
     "metadata": {},
     "output_type": "execute_result"
    }
   ],
   "source": [
    "mycursor.execute('create table Spanish_League(PositionId int not null primary key,Team varchar(255) not null,MatchPlayed int not null,Win int not null,Draw int not null,Lost int not null,Goalfor int not null,GoalAgainst int not null,GoalDifference int not null,Point int not null)')"
   ]
  },
  {
   "cell_type": "code",
   "execution_count": 23,
   "id": "4377617c",
   "metadata": {},
   "outputs": [
    {
     "name": "stdout",
     "output_type": "stream",
     "text": [
      "('PositionId', 'int', 'NO', 'PRI', None, '')\n",
      "('Team', 'varchar(255)', 'NO', '', None, '')\n",
      "('MatchPlayed', 'int', 'NO', '', None, '')\n",
      "('Win', 'int', 'NO', '', None, '')\n",
      "('Draw', 'int', 'NO', '', None, '')\n",
      "('Lost', 'int', 'NO', '', None, '')\n",
      "('Goalfor', 'int', 'NO', '', None, '')\n",
      "('GoalAgainst', 'int', 'NO', '', None, '')\n",
      "('GoalDifference', 'int', 'NO', '', None, '')\n",
      "('Point', 'int', 'NO', '', None, '')\n"
     ]
    }
   ],
   "source": [
    "mycursor.execute('show columns from Spanish_League')\n",
    "for x in mycursor:\n",
    "    print (x)"
   ]
  },
  {
   "cell_type": "code",
   "execution_count": 26,
   "id": "765d3937",
   "metadata": {},
   "outputs": [
    {
     "name": "stdout",
     "output_type": "stream",
     "text": [
      "('english_premier_league',)\n",
      "('french_league',)\n",
      "('italian_league',)\n",
      "('sl',)\n",
      "('spanish_laliga_league',)\n"
     ]
    }
   ],
   "source": [
    "mycursor.execute('alter table Spanish_League rename to Spanish_Laliga_League')\n",
    "mycursor.execute('show tables')\n",
    "for x in mycursor:\n",
    "    print (x)"
   ]
  },
  {
   "cell_type": "code",
   "execution_count": 31,
   "id": "6a2f0ce1",
   "metadata": {},
   "outputs": [],
   "source": [
    "sql = 'insert into Spanish_Laliga_League(PositionID,Team,MatchPlayed,Win,Draw,Lost,GoalFor,Goalagainst,GoalDifference,Point) values (%s,%s,%s,%s,%s,%s,%s,%s,%s,%s)'\n",
    "val = [(1,'RealBetis',3,3,0,0,6,1,5,9),\n",
    "      (2,'Barcelona',3,2,1,0,8,1,7,7),\n",
    "      (3,'Villarreal',3,2,1,0,5,0,5,7),\n",
    "      (4,'Real Madrid',2,2,0,0,6,2,4,6),\n",
    "      (5,'Osasuna',3,2,0,1,4,2,2,6),\n",
    "      (6,'Real Sociedad',3,2,0,1,3,4,1,6),\n",
    "      (7,'Real Mallocra',3,1,1,1,3,2,1,4),\n",
    "      (8,'Athletic Bilbao',2,1,1,0,1,0,1,4),\n",
    "      (9,'Almeria',3,1,1,1,4,4,0,4),\n",
    "      (10,'Rayo Vallecano',3,1,1,1,2,2,0,4)]\n",
    "#mycursor.executemany(sql,val)\n",
    "#mydb.commit()"
   ]
  },
  {
   "cell_type": "code",
   "execution_count": 30,
   "id": "44923ca2",
   "metadata": {},
   "outputs": [
    {
     "name": "stdout",
     "output_type": "stream",
     "text": [
      "(1, 'Real Betis', 3, 3, 0, 0, 6, 1, 5, 9)\n",
      "(2, 'Barcelona', 3, 2, 1, 0, 8, 1, 7, 7)\n",
      "(3, 'Villarreal', 3, 2, 1, 0, 5, 0, 5, 7)\n",
      "(4, 'Real Madrid', 2, 2, 0, 0, 6, 2, 4, 6)\n",
      "(5, 'Osasuna', 3, 2, 0, 1, 4, 2, 2, 6)\n",
      "(6, 'Real Sociedad', 3, 2, 0, 1, 3, 4, 1, 6)\n",
      "(7, 'Real Mallocra', 3, 1, 1, 1, 3, 2, 1, 4)\n",
      "(8, 'Athletic Bilbao', 2, 1, 1, 0, 1, 0, 1, 4)\n",
      "(9, 'Almeria', 3, 1, 1, 1, 4, 4, 0, 4)\n",
      "(10, 'Rayo Vallecano', 3, 1, 1, 1, 2, 2, 0, 4)\n"
     ]
    }
   ],
   "source": [
    "mycursor.execute('select * from Spanish_Laliga_League')\n",
    "for x in mycursor:\n",
    "    print(x)"
   ]
  },
  {
   "cell_type": "code",
   "execution_count": 10,
   "id": "d3494e8a",
   "metadata": {},
   "outputs": [
    {
     "data": {
      "text/plain": [
       "0"
      ]
     },
     "execution_count": 10,
     "metadata": {},
     "output_type": "execute_result"
    }
   ],
   "source": [
    "import pymysql\n",
    "mydb = pymysql.connect(\n",
    "    host = 'localhost',\n",
    "    user = 'root',\n",
    "    password = 'lologeorge@18',\n",
    "    database = 'footballmanagementsystem'\n",
    "    \n",
    ")\n",
    "mycursor = mydb.cursor()\n",
    "mycursor.execute('create table Italian_League(PositionId int not null primary key,Team varchar(255) not null,MatchPlayed int not null,Win int not null,Draw int not null,Lost int not null,Goalfor int not null,GoalAgainst int not null,GoalDifference int not null,Point int not null)')"
   ]
  },
  {
   "cell_type": "code",
   "execution_count": 11,
   "id": "ecc3d403",
   "metadata": {},
   "outputs": [
    {
     "name": "stdout",
     "output_type": "stream",
     "text": [
      "(1, 'Napoli', 3, 2, 1, 0, 9, 2, 7, 7)\n",
      "(2, 'Milan', 3, 2, 1, 0, 7, 3, 4, 7)\n",
      "(3, 'Lazio', 3, 2, 1, 0, 5, 2, 3, 7)\n",
      "(4, 'Atalanta', 3, 2, 1, 0, 4, 1, 3, 7)\n",
      "(5, 'Torino', 3, 2, 1, 0, 4, 2, 2, 7)\n",
      "(6, 'Roma', 3, 2, 1, 0, 3, 1, 2, 7)\n",
      "(7, 'Inter', 3, 2, 0, 1, 6, 4, 2, 6)\n",
      "(8, 'Juventus', 3, 1, 2, 0, 4, 1, 3, 5)\n",
      "(9, 'Fiorentina', 3, 1, 2, 0, 3, 2, 1, 5)\n",
      "(10, 'Salernitana', 3, 1, 1, 1, 4, 1, 3, 4)\n"
     ]
    }
   ],
   "source": [
    "sql = 'insert into Italian_League(PositionID,Team,MatchPlayed,Win,Draw,Lost,GoalFor,Goalagainst,GoalDifference,Point) values (%s,%s,%s,%s,%s,%s,%s,%s,%s,%s)'\n",
    "val = [(1,'Napoli',3,2,1,0,9,2,7,7),\n",
    "      (2,'Milan',3,2,1,0,7,3,4,7),\n",
    "      (3,'Lazio',3,2,1,0,5,2,3,7),\n",
    "      (4,'Atalanta',3,2,1,0,4,1,3,7),\n",
    "      (5,'Torino',3,2,1,0,4,2,2,7),\n",
    "      (6,'Roma',3,2,1,0,3,1,2,7),\n",
    "      (7,'Inter',3,2,0,1,6,4,2,6),\n",
    "      (8,'Juventus',3,1,2,0,4,1,3,5),\n",
    "      (9,'Fiorentina',3,1,2,0,3,2,1,5),\n",
    "      (10,'Salernitana',3,1,1,1,4,1,3,4)]\n",
    "mycursor.executemany(sql,val)\n",
    "mydb.commit()\n",
    "mycursor.execute('select * from Italian_League')\n",
    "for x in mycursor:\n",
    "    print(x)\n"
   ]
  },
  {
   "cell_type": "code",
   "execution_count": 16,
   "id": "ceeb5a68",
   "metadata": {},
   "outputs": [],
   "source": [
    "import pymysql\n",
    "mydb = pymysql.connect(\n",
    "    host = 'localhost',\n",
    "    user = 'root',\n",
    "    password = 'lologeorge@18',\n",
    "    database = 'footballmanagementsystem'\n",
    "    \n",
    ")\n",
    "mycursor = mydb.cursor()\n",
    "#mycursor.execute('create table French_League(PositionId int not null primary key,Team varchar(255) not null,MatchPlayed int not null,Win int not null,Draw int not null,Lost int not null,Goalfor int not null,GoalAgainst int not null,GoalDifference int not null,Point int not null)')\n"
   ]
  },
  {
   "cell_type": "code",
   "execution_count": 21,
   "id": "15e88bfd",
   "metadata": {},
   "outputs": [],
   "source": [
    "sql = 'insert into French_League(PositionID,Team,MatchPlayed,Win,Draw,Lost,GoalFor\\\n",
    ",Goalagainst,GoalDifference,Point) values (%s,%s,%s,%s,%s,%s,%s,%s,%s,%s)'\n",
    "val = [(1,'PSG',4,3,1,0,18,4,14,10),\n",
    "      (2,'Marseille',4,3,1,0,10,3,7,10),\n",
    "      (3,'lens',4,3,1,0,9,4,5,10),\n",
    "      (4,'Lyon',3,2,1,0,7,3,4,7),\n",
    "      (5,'Lorient',3,2,1,0,5,3,2,7),\n",
    "      (6,'LOSC',4,2,1,1,9,10,-1,7),\n",
    "      (7,'Auxerre',4,2,1,1,6,7,-1,7),\n",
    "       (8,'Montpellier',4,2,0,2,13,9,4,6),\n",
    "      (9,'ClermontFoot',4,2,0,2,6,9,-3,6),\n",
    "      (10,'Toulouse',4,1,2,1,7,6,1,5)]\n",
    "#mycursor.executemany(sql,val)\n",
    "#mydb.commit()"
   ]
  },
  {
   "cell_type": "code",
   "execution_count": 19,
   "id": "193e7ba4",
   "metadata": {},
   "outputs": [
    {
     "name": "stdout",
     "output_type": "stream",
     "text": [
      "(1, 'PSG', 4, 3, 1, 0, 18, 4, 14, 10)\n",
      "(2, 'Marseille', 4, 3, 1, 0, 10, 3, 7, 10)\n",
      "(3, 'lens', 4, 3, 1, 0, 9, 4, 5, 10)\n",
      "(4, 'Lyon', 3, 2, 1, 0, 7, 3, 4, 7)\n",
      "(5, 'Lorient', 3, 2, 1, 0, 5, 3, 2, 7)\n",
      "(6, 'LOSC', 4, 2, 1, 1, 9, 10, -1, 7)\n",
      "(7, 'Auxerre', 4, 2, 1, 1, 6, 7, -1, 7)\n",
      "(8, 'Montpellier', 4, 2, 0, 2, 13, 9, 4, 6)\n",
      "(9, 'ClermontFoot', 4, 2, 0, 2, 6, 9, -3, 6)\n",
      "(10, 'Toulouse', 4, 1, 2, 1, 7, 6, 1, 5)\n"
     ]
    }
   ],
   "source": [
    "mycursor.execute('select * from French_League')\n",
    "for x in mycursor:\n",
    "    print(x)"
   ]
  },
  {
   "cell_type": "code",
   "execution_count": null,
   "id": "35c8ad6c",
   "metadata": {},
   "outputs": [],
   "source": []
  }
 ],
 "metadata": {
  "kernelspec": {
   "display_name": "Python 3 (ipykernel)",
   "language": "python",
   "name": "python3"
  },
  "language_info": {
   "codemirror_mode": {
    "name": "ipython",
    "version": 3
   },
   "file_extension": ".py",
   "mimetype": "text/x-python",
   "name": "python",
   "nbconvert_exporter": "python",
   "pygments_lexer": "ipython3",
   "version": "3.9.12"
  }
 },
 "nbformat": 4,
 "nbformat_minor": 5
}
