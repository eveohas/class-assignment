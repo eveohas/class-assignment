{
 "cells": [
  {
   "cell_type": "markdown",
   "id": "306d58a2",
   "metadata": {},
   "source": [
    "# DEVELOP AN IQ TEST PROGRAM"
   ]
  },
  {
   "cell_type": "code",
   "execution_count": 11,
   "id": "34ad8f4c",
   "metadata": {},
   "outputs": [
    {
     "name": "stdout",
     "output_type": "stream",
     "text": [
      "please provide you nameEvelyn\n",
      "please provide you age30\n",
      "Which type of programming dose Python support: all mention\n",
      "Is python case sensitive when dealing with indentifies:no\n",
      "Which of the following is the correct extension of the python file:.py\n",
      "All keywords in Python are in _________:all of the above\n",
      "Which of the following is used to define a block of code in Python language?:Indentation\n",
      "Which keyword is used for function in Python language:Def\n",
      "Which of the following character is used to give single-line comments in Python:#\n",
      " Which of the following is the truncation division operator in Python://\n",
      "Which of the following is not a core data type in Python programming:Class\n",
      "how many legs dose a sipeder have:8\n",
      "your score is 5 in 48 second time therefore you are extremely low\n"
     ]
    }
   ],
   "source": [
    "import datetime\n",
    "answer_to_question = {\n",
    "    'Q1':['object-oriented','structured','functional','all of the above'],\n",
    "    'Q2':['no','yes','machine','dependent','non mentioned'],\n",
    "    'Q3':['.python','.pl','.p','.py'],\n",
    "    'Q4':['capitalized','lower case','upper case','none of the mentioned'],\n",
    "    'Q5':['Indentation','Key','Brackets','All of the above'],\n",
    "    'Q6':['function','Def','Fun','Define'],\n",
    "    'Q7':['//','#','!','/*'],\n",
    "    'Q8':['|','//','/','%'],\n",
    "    'Q9':['Tuples','List','Class','Dictionary'],\n",
    "    'Q10':['2','4','5','8']\n",
    "}\n",
    "Name = input('please provide you name')\n",
    "age = float(input('please provide you age'))\n",
    "quizscore = 0\n",
    "starttime = datetime.datetime.now()\n",
    "answer = input('Which type of programming dose Python support:')\n",
    "if answer == answer_to_question['Q1'][3]:\n",
    "    quizscore = quizscore + 5\n",
    "else:\n",
    "    quizscore + 0\n",
    "answer = input('Is python case sensitive when dealing with indentifies:')\n",
    "if answer == answer_to_question['Q2'][0]:\n",
    "    quizscore = quizscore + 5\n",
    "else:\n",
    "    quizscore + 0 \n",
    "answer = input('Which of the following is the correct extension of the python file:')\n",
    "if answer == answer_to_question['Q3'][2]:\n",
    "    quizscore = quizscore + 5\n",
    "else:\n",
    "    quizscore + 0\n",
    "ansewr = input('All keywords in Python are in _________:')\n",
    "if answer == answer_to_question['Q4'][3]:\n",
    "    quizscore = quizscore + 5\n",
    "else:\n",
    "    quizscore + 0\n",
    "ansewr = input('Which of the following is used to define a block of code in Python language?:')    \n",
    "if answer == answer_to_question['Q5'][0]:\n",
    "    quizscore = quizscore + 5\n",
    "else:\n",
    "    quizscore + 0\n",
    "ansewr = input('Which keyword is used for function in Python language:')\n",
    "if answer == answer_to_question['Q6'][1]:\n",
    "    quizscore = quizscore + 5\n",
    "else:\n",
    "    quizscore + 0\n",
    "ansewr = input('Which of the following character is used to give single-line comments in Python:')\n",
    "if answer == answer_to_question['Q7'][1]:\n",
    "    quizscore = quizscore + 5\n",
    "else:\n",
    "    quizscore + 0\n",
    "ansewr = input(' Which of the following is the truncation division operator in Python:')\n",
    "if answer == answer_to_question['Q8'][1]:\n",
    "    quizscore = quizscore + 5\n",
    "else:\n",
    "    quizscore + 0\n",
    "ansewr = input('Which of the following is not a core data type in Python programming:')\n",
    "if answer == answer_to_question['Q9'][2]:\n",
    "    quizscore = quizscore + 5\n",
    "else:\n",
    "    quizscore + 0\n",
    "ansewr = int(input('how many legs dose a sipeder have:'))\n",
    "if answer == answer_to_question['Q10'][3]:\n",
    "    quizscore = quizscore + 5\n",
    "else:\n",
    "    quizscore + 0\n",
    "\n",
    "stoptime = datetime.datetime.now()\n",
    "diff = stoptime - starttime\n",
    "iqtest = (quizscore/age) * 100\n",
    "\n",
    "if iqtest <= 69:\n",
    "    print(f'your score is {quizscore} in {diff.seconds} second time therefore you are extremely low')\n",
    "elif iqtest >= 70 and iqtest <= 79:\n",
    "    print(f'your score is {quizscore} in {diff.seconds} second time therefore you are very low')\n",
    "elif iqtest >= 80 and iqtest <= 89:\n",
    "    print(f'your score is {quizscore} in {diff.seconds} second time therefore you are averagely low')\n",
    "elif iqtest >= 90 and iqtest <= 99:\n",
    "    print(f'your score is {quizscore} in {diff.seconds} second time therefore you are average')\n",
    "elif iqtest >= 100 and iqtest <= 109:\n",
    "    print(f'your score is {quizscore} in {diff.seconds} second time therefore you are highly average')\n",
    "elif iqtest >= 120 and iqtest <= 129:\n",
    "    print(f'your score is {quizscore} in {diff.seconds} second time therefore you are very high')\n",
    "else:\n",
    "    print(f'your score is {quizscore} in {diff.seconds} second time therefore you are extremly high')\n",
    "           \n",
    "           "
   ]
  },
  {
   "cell_type": "markdown",
   "id": "e79d62d1",
   "metadata": {},
   "source": [
    "# Ask a user for his or her appointment date and calculate how weeks and days the user has until that appointment date from current date"
   ]
  },
  {
   "cell_type": "code",
   "execution_count": 13,
   "id": "fb35500a",
   "metadata": {},
   "outputs": [
    {
     "name": "stdout",
     "output_type": "stream",
     "text": [
      "Enter a year2023\n",
      "Enter a month01\n",
      "Enter a day23\n",
      "You have 21 weeks and 5 days.\n"
     ]
    }
   ],
   "source": [
    "import datetime\n",
    "\n",
    "def appointDate():\n",
    "    year = int(input('Enter a year'))\n",
    "    month = int(input('Enter a month'))\n",
    "    day = int(input('Enter a day'))\n",
    "    \n",
    "    appDate =date(year, month, day)\n",
    "    today = date.today()\n",
    "    alldays = abs(appDate - today).days\n",
    "    weeks = alldays//7\n",
    "    day = alldays % 7\n",
    "    \n",
    "    return \"You have \" + str(weeks) + \" weeks and \" + str(day) + \" days.\"\n",
    "print(appointDate())"
   ]
  },
  {
   "cell_type": "code",
   "execution_count": null,
   "id": "a4450f4d",
   "metadata": {},
   "outputs": [],
   "source": []
  }
 ],
 "metadata": {
  "kernelspec": {
   "display_name": "Python 3 (ipykernel)",
   "language": "python",
   "name": "python3"
  },
  "language_info": {
   "codemirror_mode": {
    "name": "ipython",
    "version": 3
   },
   "file_extension": ".py",
   "mimetype": "text/x-python",
   "name": "python",
   "nbconvert_exporter": "python",
   "pygments_lexer": "ipython3",
   "version": "3.9.12"
  }
 },
 "nbformat": 4,
 "nbformat_minor": 5
}
